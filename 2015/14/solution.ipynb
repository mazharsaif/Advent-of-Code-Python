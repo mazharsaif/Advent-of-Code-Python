{
 "cells": [
  {
   "cell_type": "markdown",
   "metadata": {},
   "source": [
    "-------\n",
    "-----\n",
    "## Reading and Preprocessing Input"
   ]
  },
  {
   "cell_type": "code",
   "execution_count": 14,
   "metadata": {},
   "outputs": [
    {
     "data": {
      "text/plain": [
       "['Rudolph can fly 22 km/s for 8 seconds, but then must rest for 165 seconds.\\n',\n",
       " 'Cupid can fly 8 km/s for 17 seconds, but then must rest for 114 seconds.\\n',\n",
       " 'Prancer can fly 18 km/s for 6 seconds, but then must rest for 103 seconds.\\n',\n",
       " 'Donner can fly 25 km/s for 6 seconds, but then must rest for 145 seconds.\\n',\n",
       " 'Dasher can fly 11 km/s for 12 seconds, but then must rest for 125 seconds.\\n',\n",
       " 'Comet can fly 21 km/s for 6 seconds, but then must rest for 121 seconds.\\n',\n",
       " 'Blitzen can fly 18 km/s for 3 seconds, but then must rest for 50 seconds.\\n',\n",
       " 'Vixen can fly 20 km/s for 4 seconds, but then must rest for 75 seconds.\\n',\n",
       " 'Dancer can fly 7 km/s for 20 seconds, but then must rest for 119 seconds.\\n']"
      ]
     },
     "execution_count": 14,
     "metadata": {},
     "output_type": "execute_result"
    }
   ],
   "source": [
    "with open(\"input.txt\", \"r\") as f:\n",
    "    reindeer_race_info = f.readlines()\n",
    "reindeer_race_info"
   ]
  },
  {
   "cell_type": "code",
   "execution_count": 15,
   "metadata": {},
   "outputs": [
    {
     "data": {
      "text/plain": [
       "(22, 8, 165)"
      ]
     },
     "execution_count": 15,
     "metadata": {},
     "output_type": "execute_result"
    }
   ],
   "source": [
    "def process_info(desc:str) -> tuple[int, int, int]:\n",
    "    speed = int(desc.split(\"fly \")[1].split(\" km/s\")[0])\n",
    "    flight_time = int(desc.split(\"km/s for \")[1].split(\" seconds, b\")[0])\n",
    "    rest_time = int(desc.split(\"rest for \")[1].split(\" seconds.\\n\")[0])\n",
    "\n",
    "    return speed, flight_time, rest_time\n",
    "\n",
    "\n",
    "reindeer_race_info = [process_info(i) for i in reindeer_race_info]\n",
    "\n",
    "reindeer_race_info[0] # speed, flight_time, rest_time"
   ]
  },
  {
   "cell_type": "markdown",
   "metadata": {},
   "source": [
    "------\n",
    "---------\n",
    "## Part-1"
   ]
  },
  {
   "cell_type": "code",
   "execution_count": 16,
   "metadata": {},
   "outputs": [],
   "source": [
    "def calc_end_distance(time, speed, flight_time, rest_time):\n",
    "    distance  = 0\n",
    "    dist_array = [speed]*flight_time + [0]*rest_time\n",
    "    for i in range(time):\n",
    "        distance += dist_array[i%len(dist_array)]\n",
    "\n",
    "    return distance"
   ]
  },
  {
   "cell_type": "code",
   "execution_count": 18,
   "metadata": {},
   "outputs": [
    {
     "name": "stdout",
     "output_type": "stream",
     "text": [
      "[2640, 2696, 2484, 2550, 2508, 2520, 2592, 2560, 2527]\n",
      "Answer for Part-1 = 2696\n"
     ]
    }
   ],
   "source": [
    "end_distances = [calc_end_distance(2503, *i) for i in reindeer_race_info]\n",
    "print(end_distances)\n",
    "\n",
    "\n",
    "ANS1 = max(end_distances)\n",
    "print(\"Answer for Part-1 =\", ANS1)"
   ]
  },
  {
   "cell_type": "markdown",
   "metadata": {},
   "source": [
    "------\n",
    "---------\n",
    "## Part-2"
   ]
  },
  {
   "cell_type": "code",
   "execution_count": 72,
   "metadata": {},
   "outputs": [
    {
     "name": "stdout",
     "output_type": "stream",
     "text": [
      "[1084, 838, 24, 277, 0, 121, 0, 13, 199]\n",
      "Answer for Part-2 = 1084\n"
     ]
    }
   ],
   "source": [
    "reindeer_points = [0]*len(reindeer_race_info)\n",
    "reindeer_distances = [0]*len(reindeer_race_info)\n",
    "\n",
    "for t in range(2503):\n",
    "    for r, (speed, flight_time, rest_time) in enumerate(reindeer_race_info):\n",
    "        dist_array = [speed]*flight_time + [0]*rest_time\n",
    "        reindeer_distances[r] += dist_array[t%len(dist_array)]\n",
    "\n",
    "\n",
    "    max_dist = max(reindeer_distances)\n",
    "    for r, dist in enumerate(reindeer_distances):\n",
    "        if dist == max_dist:\n",
    "            reindeer_points[r] += 1\n",
    "\n",
    "\n",
    "print(reindeer_points)\n",
    "\n",
    "ANS2 = max(reindeer_points)\n",
    "print(\"Answer for Part-2 =\", ANS2)"
   ]
  }
 ],
 "metadata": {
  "kernelspec": {
   "display_name": "Python 3.9.7 ('base')",
   "language": "python",
   "name": "python3"
  },
  "language_info": {
   "codemirror_mode": {
    "name": "ipython",
    "version": 3
   },
   "file_extension": ".py",
   "mimetype": "text/x-python",
   "name": "python",
   "nbconvert_exporter": "python",
   "pygments_lexer": "ipython3",
   "version": "3.9.7"
  },
  "orig_nbformat": 4,
  "vscode": {
   "interpreter": {
    "hash": "fcf5590ce2d789d46a180223f9dda6f8ae45e89a2999e90e1a0cea5d6d4587a5"
   }
  }
 },
 "nbformat": 4,
 "nbformat_minor": 2
}
