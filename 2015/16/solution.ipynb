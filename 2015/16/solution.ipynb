{
 "cells": [
  {
   "cell_type": "markdown",
   "metadata": {},
   "source": [
    "-------\n",
    "-----\n",
    "### Reading and Preprocessing Input"
   ]
  },
  {
   "cell_type": "code",
   "execution_count": 72,
   "metadata": {},
   "outputs": [
    {
     "data": {
      "text/plain": [
       "['Sue 1: goldfish: 9, cars: 0, samoyeds: 9',\n",
       " 'Sue 2: perfumes: 5, trees: 8, goldfish: 8',\n",
       " 'Sue 3: pomeranians: 2, akitas: 1, trees: 5',\n",
       " 'Sue 4: goldfish: 10, akitas: 2, perfumes: 9']"
      ]
     },
     "execution_count": 72,
     "metadata": {},
     "output_type": "execute_result"
    }
   ],
   "source": [
    "with open(\"input.txt\", \"r\") as f:\n",
    "    inputs = f.readlines()\n",
    "    inputs = [i.rstrip() for i in inputs]\n",
    "inputs[:4]"
   ]
  },
  {
   "cell_type": "code",
   "execution_count": 75,
   "metadata": {},
   "outputs": [],
   "source": [
    "with open(\"input.txt\", \"r\") as f:\n",
    "    inputs = f.readlines()\n",
    "    inputs = [i.rstrip() for i in inputs]\n",
    "\n",
    "\n",
    "def process_input(input_str: str) -> list[bool, dict[str: int]]:\n",
    "    out = input_str.replace(\":\", \"\").split(\" \")[2:]\n",
    "    values = [int(out[i].replace(\",\", \"\")) for i, j in enumerate(out) if i%2==1]\n",
    "    keys = [out[i] for i, j in enumerate(out) if i%2!=1]\n",
    "\n",
    "    out = {i:j for i,j in zip(keys, values)}\n",
    "\n",
    "\n",
    "    del_keys = []\n",
    "    for key, value in out.items():\n",
    "        if value == 0:\n",
    "            del_keys.append(key)\n",
    "    for key in del_keys:\n",
    "        del out[key]\n",
    "        \n",
    "    return [True, out]\n"
   ]
  },
  {
   "cell_type": "code",
   "execution_count": 76,
   "metadata": {},
   "outputs": [],
   "source": [
    "sue_stats= {'children': 3,\n",
    "    'cats': 7,\n",
    "    'samoyeds': 2,\n",
    "    'pomeranians': 3,\n",
    "    'akitas': 0,\n",
    "    'vizslas': 0,\n",
    "    'goldfish': 5,\n",
    "    'trees': 3,\n",
    "    'cars': 2,\n",
    "    'perfumes': 1}"
   ]
  },
  {
   "cell_type": "markdown",
   "metadata": {},
   "source": [
    "------\n",
    "------\n",
    "### Part-1"
   ]
  },
  {
   "cell_type": "code",
   "execution_count": 77,
   "metadata": {},
   "outputs": [
    {
     "data": {
      "text/plain": [
       "[[True, {'goldfish': 9, 'samoyeds': 9}],\n",
       " [True, {'perfumes': 5, 'trees': 8, 'goldfish': 8}],\n",
       " [True, {'pomeranians': 2, 'akitas': 1, 'trees': 5}],\n",
       " [True, {'goldfish': 10, 'akitas': 2, 'perfumes': 9}]]"
      ]
     },
     "execution_count": 77,
     "metadata": {},
     "output_type": "execute_result"
    }
   ],
   "source": [
    "aunt_list = [process_input(i) for i in inputs]\n",
    "aunt_list[:4]"
   ]
  },
  {
   "cell_type": "code",
   "execution_count": 78,
   "metadata": {},
   "outputs": [],
   "source": [
    "for i, aunt in enumerate(aunt_list):\n",
    "    flag, stats =  aunt\n",
    "    for key, value in stats.items():\n",
    "        if key in sue_stats:\n",
    "            if sue_stats[key] != value:\n",
    "                aunt_list[i][0] = False"
   ]
  },
  {
   "cell_type": "code",
   "execution_count": 79,
   "metadata": {},
   "outputs": [
    {
     "name": "stdout",
     "output_type": "stream",
     "text": [
      "Sue: 40 {'cats': 7}\n",
      "Answer for Part-1 = 40\n"
     ]
    }
   ],
   "source": [
    "for i, (flag, stats) in enumerate(aunt_list):\n",
    "    if flag == True:\n",
    "        ANS1 = i+1\n",
    "        print(f\"Sue: {ANS1}\", stats)\n",
    "\n",
    "        print(\"Answer for Part-1 =\", ANS1)\n"
   ]
  },
  {
   "cell_type": "markdown",
   "metadata": {},
   "source": [
    "------\n",
    "------\n",
    "### Part-2"
   ]
  },
  {
   "cell_type": "code",
   "execution_count": 80,
   "metadata": {},
   "outputs": [],
   "source": [
    "aunt_list = [process_input(i) for i in inputs]"
   ]
  },
  {
   "cell_type": "code",
   "execution_count": 81,
   "metadata": {},
   "outputs": [],
   "source": [
    "for i, aunt in enumerate(aunt_list):\n",
    "    flag, stats =  aunt\n",
    "    for key, value in stats.items():\n",
    "        if key in sue_stats:\n",
    "            if (key == \"pomeranians\") or (key == \"goldfish\"):\n",
    "                if value >= sue_stats[key]:\n",
    "                    aunt_list[i][0] = False\n",
    "            elif (key == \"trees\") or (key == \"cats\"):\n",
    "                if value <= sue_stats[key]:\n",
    "                    aunt_list[i][0] = False\n",
    "            elif sue_stats[key] != value:\n",
    "                aunt_list[i][0] = False\n",
    "                "
   ]
  },
  {
   "cell_type": "code",
   "execution_count": 82,
   "metadata": {},
   "outputs": [
    {
     "name": "stdout",
     "output_type": "stream",
     "text": [
      "Sue: 225 {'trees': 5}\n",
      "Sue: 241 {'cars': 2, 'pomeranians': 1, 'samoyeds': 2}\n"
     ]
    }
   ],
   "source": [
    "for i, (flag, stats) in enumerate(aunt_list):\n",
    "    if flag == True:\n",
    "        ANS2 = i+1\n",
    "        print(f\"Sue: {ANS2}\", stats)"
   ]
  },
  {
   "cell_type": "code",
   "execution_count": 71,
   "metadata": {},
   "outputs": [
    {
     "name": "stdout",
     "output_type": "stream",
     "text": [
      "Answer for Part-2 = 241\n"
     ]
    }
   ],
   "source": [
    "ANS2 = 241 # Pick more confident aunt\n",
    "print(\"Answer for Part-2 =\", ANS2)"
   ]
  }
 ],
 "metadata": {
  "kernelspec": {
   "display_name": "Python 3.9.7 ('base')",
   "language": "python",
   "name": "python3"
  },
  "language_info": {
   "codemirror_mode": {
    "name": "ipython",
    "version": 3
   },
   "file_extension": ".py",
   "mimetype": "text/x-python",
   "name": "python",
   "nbconvert_exporter": "python",
   "pygments_lexer": "ipython3",
   "version": "3.9.7"
  },
  "orig_nbformat": 4,
  "vscode": {
   "interpreter": {
    "hash": "fcf5590ce2d789d46a180223f9dda6f8ae45e89a2999e90e1a0cea5d6d4587a5"
   }
  }
 },
 "nbformat": 4,
 "nbformat_minor": 2
}
