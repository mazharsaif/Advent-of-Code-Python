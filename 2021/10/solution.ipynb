{
 "cells": [
  {
   "cell_type": "markdown",
   "metadata": {},
   "source": [
    "-------\n",
    "-----\n",
    "## Reading and Preprocessing Input"
   ]
  },
  {
   "cell_type": "code",
   "execution_count": null,
   "metadata": {},
   "outputs": [],
   "source": [
    "with open(\"input_sample.txt\", \"r\") as f:\n",
    "    inputs = f.readlines()\n",
    "    inputs = [i.strip() for i in inputs]\n",
    "\n",
    "inputs[:2]"
   ]
  },
  {
   "cell_type": "markdown",
   "metadata": {},
   "source": [
    "------\n",
    "---\n",
    "## Part-1"
   ]
  },
  {
   "cell_type": "code",
   "execution_count": null,
   "metadata": {},
   "outputs": [],
   "source": [
    "matches = {\"}\":\"{\",\n",
    "           \"]\":\"[\",\n",
    "           \")\":\"(\",\n",
    "           \">\":\"<\"}\n",
    "\n",
    "costs = {\"}\":1197,\n",
    "         \"]\":57,\n",
    "         \")\":3,\n",
    "         \">\":25137}"
   ]
  },
  {
   "cell_type": "code",
   "execution_count": null,
   "metadata": {},
   "outputs": [],
   "source": [
    "from collections import defaultdict\n",
    "from tqdm import tqdm\n",
    "\n",
    "invalid_chars = defaultdict(int)\n",
    "corrupt_lines = []"
   ]
  },
  {
   "cell_type": "code",
   "execution_count": null,
   "metadata": {},
   "outputs": [],
   "source": [
    "\n",
    "for i, line in enumerate(tqdm(inputs)):\n",
    "    stack = []\n",
    "    for char in line:\n",
    "        if char not in matches:\n",
    "            stack.append(char)\n",
    "        else:\n",
    "            \n",
    "            if stack[-1] == matches[char]:\n",
    "                stack.pop()\n",
    "\n",
    "            else:\n",
    "                corrupt_lines.append(i)\n",
    "                invalid_chars[char] +=1\n",
    "                break\n",
    "\n",
    "            "
   ]
  },
  {
   "cell_type": "code",
   "execution_count": null,
   "metadata": {},
   "outputs": [],
   "source": [
    "syntaxscore = 0\n",
    "for char in invalid_chars:\n",
    "    syntaxscore += invalid_chars[char]*costs[char]\n",
    "syntaxscore"
   ]
  },
  {
   "cell_type": "markdown",
   "metadata": {},
   "source": [
    "------\n",
    "---\n",
    "## Part-2"
   ]
  },
  {
   "cell_type": "code",
   "execution_count": null,
   "metadata": {},
   "outputs": [],
   "source": [
    "incomplete_indices = [i for i in range(len(inputs)) if i not in corrupt_lines]\n",
    "len(incomplete_indices)"
   ]
  },
  {
   "cell_type": "code",
   "execution_count": null,
   "metadata": {},
   "outputs": [],
   "source": [
    "incomplete_lines = [inputs[i] for i in incomplete_indices]\n",
    "# incomplete_lines"
   ]
  },
  {
   "cell_type": "code",
   "execution_count": null,
   "metadata": {},
   "outputs": [],
   "source": [
    "closing = {v:k for k,v in matches.items()}\n",
    "closing"
   ]
  },
  {
   "cell_type": "code",
   "execution_count": null,
   "metadata": {},
   "outputs": [],
   "source": [
    "closing_seq = []\n",
    "for line in incomplete_lines:\n",
    "    return_stack = \"\"\n",
    "    flagchar = None\n",
    "    for char in line[::-1]:\n",
    "        if char in matches:\n",
    "            flagchar = matches[char]\n",
    "            continue\n",
    "        if char == flagchar:\n",
    "            flagchar = None\n",
    "\n",
    "        else:\n",
    "            return_stack = return_stack + closing[char]\n",
    "\n",
    "    closing_seq.append(return_stack)"
   ]
  },
  {
   "cell_type": "code",
   "execution_count": null,
   "metadata": {},
   "outputs": [],
   "source": [
    "incomplete_scores = []"
   ]
  },
  {
   "cell_type": "code",
   "execution_count": null,
   "metadata": {},
   "outputs": [],
   "source": [
    "def calculate_score(closing_string):\n",
    "    scores = {\")\":1,\n",
    "            \"}\":3,\n",
    "            \"]\":2,\n",
    "            \">\":4\n",
    "            }\n",
    "\n",
    "\n",
    "    s = 0\n",
    "\n",
    "    for i, char in enumerate(closing_string):\n",
    "        s = s*5 + scores[char]\n",
    "\n",
    "    return s"
   ]
  },
  {
   "cell_type": "code",
   "execution_count": null,
   "metadata": {},
   "outputs": [],
   "source": [
    "calculate_score('}}]])})]')"
   ]
  },
  {
   "cell_type": "code",
   "execution_count": null,
   "metadata": {},
   "outputs": [],
   "source": [
    "closing_seq"
   ]
  },
  {
   "cell_type": "code",
   "execution_count": null,
   "metadata": {},
   "outputs": [],
   "source": [
    "inputs"
   ]
  },
  {
   "cell_type": "code",
   "execution_count": null,
   "metadata": {},
   "outputs": [],
   "source": [
    "incomplete_scores = list(map(calculate_score, closing_seq))\n",
    "incomplete_scores.sort()"
   ]
  },
  {
   "cell_type": "code",
   "execution_count": null,
   "metadata": {},
   "outputs": [],
   "source": [
    "import numpy as np\n",
    "np.median(incomplete_scores)"
   ]
  },
  {
   "cell_type": "code",
   "execution_count": null,
   "metadata": {},
   "outputs": [],
   "source": [
    "incomplete_scores"
   ]
  },
  {
   "cell_type": "code",
   "execution_count": null,
   "metadata": {},
   "outputs": [],
   "source": [
    "len(incomplete_scores)"
   ]
  },
  {
   "cell_type": "code",
   "execution_count": null,
   "metadata": {},
   "outputs": [],
   "source": [
    "incomplete_scores[len(incomplete_indices)//2]"
   ]
  },
  {
   "cell_type": "code",
   "execution_count": null,
   "metadata": {},
   "outputs": [],
   "source": [
    "incomplete_scores"
   ]
  }
 ],
 "metadata": {
  "kernelspec": {
   "display_name": "Python 3.9.7 ('base')",
   "language": "python",
   "name": "python3"
  },
  "language_info": {
   "codemirror_mode": {
    "name": "ipython",
    "version": 3
   },
   "file_extension": ".py",
   "mimetype": "text/x-python",
   "name": "python",
   "nbconvert_exporter": "python",
   "pygments_lexer": "ipython3",
   "version": "3.9.7"
  },
  "orig_nbformat": 4,
  "vscode": {
   "interpreter": {
    "hash": "fcf5590ce2d789d46a180223f9dda6f8ae45e89a2999e90e1a0cea5d6d4587a5"
   }
  }
 },
 "nbformat": 4,
 "nbformat_minor": 2
}
