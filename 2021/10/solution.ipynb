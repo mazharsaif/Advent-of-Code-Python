{
 "cells": [
  {
   "cell_type": "markdown",
   "metadata": {},
   "source": [
    "-------\n",
    "-----\n",
    "## Reading and Preprocessing Input"
   ]
  },
  {
   "cell_type": "code",
   "execution_count": 1,
   "metadata": {},
   "outputs": [
    {
     "data": {
      "text/plain": [
       "['({[[{[(([({((<[]>{[][]})[{<>[]}{[]{}}])[<[<><>][[]{}]>{[{}()][{}]}]}(<[{<>{}}[()]]<[{}[]]>><[{()}({}())]',\n",
       " '[[<([<<<((([<<()()>{{}()}>[[()<>]]]{<{<>[]}(()<>)>[<{}{}>[{}]]}){{({<>()}{[]})<[[][]]>}[{[']"
      ]
     },
     "execution_count": 1,
     "metadata": {},
     "output_type": "execute_result"
    }
   ],
   "source": [
    "with open(\"input.txt\", \"r\") as f:\n",
    "    inputs = f.readlines()\n",
    "    inputs = [i.strip() for i in inputs]\n",
    "\n",
    "inputs[:2]"
   ]
  },
  {
   "cell_type": "markdown",
   "metadata": {},
   "source": [
    "------\n",
    "---\n",
    "## Part-1"
   ]
  },
  {
   "cell_type": "code",
   "execution_count": 2,
   "metadata": {},
   "outputs": [],
   "source": [
    "matches = {\"}\":\"{\",\n",
    "           \"]\":\"[\",\n",
    "           \")\":\"(\",\n",
    "           \">\":\"<\"}\n",
    "\n",
    "costs = {\"}\":1197,\n",
    "         \"]\":57,\n",
    "         \")\":3,\n",
    "         \">\":25137}"
   ]
  },
  {
   "cell_type": "code",
   "execution_count": 3,
   "metadata": {},
   "outputs": [],
   "source": [
    "from collections import defaultdict\n",
    "from tqdm import tqdm\n",
    "\n",
    "invalid_chars = defaultdict(int)\n",
    "corrupt_lines = []"
   ]
  },
  {
   "cell_type": "code",
   "execution_count": 4,
   "metadata": {},
   "outputs": [
    {
     "name": "stderr",
     "output_type": "stream",
     "text": [
      "100%|██████████| 94/94 [00:00<00:00, 5549.82it/s]\n"
     ]
    }
   ],
   "source": [
    "\n",
    "for i, line in enumerate(tqdm(inputs)):\n",
    "    stack = []\n",
    "    for char in line:\n",
    "        if char not in matches:\n",
    "            stack.append(char)\n",
    "        else:\n",
    "            \n",
    "            if stack[-1] == matches[char]:\n",
    "                stack.pop()\n",
    "\n",
    "            else:\n",
    "                corrupt_lines.append(i)\n",
    "                invalid_chars[char] +=1\n",
    "                break\n",
    "\n",
    "            "
   ]
  },
  {
   "cell_type": "code",
   "execution_count": 5,
   "metadata": {},
   "outputs": [
    {
     "name": "stdout",
     "output_type": "stream",
     "text": [
      "Answer for Part1 = 318081\n"
     ]
    }
   ],
   "source": [
    "ANS1 = 0\n",
    "for char in invalid_chars:\n",
    "    ANS1 += invalid_chars[char]*costs[char]\n",
    "ANS1\n",
    "\n",
    "print(f\"Answer for Part1 = {ANS1}\")"
   ]
  },
  {
   "cell_type": "markdown",
   "metadata": {},
   "source": [
    "------\n",
    "---\n",
    "## Part-2"
   ]
  },
  {
   "cell_type": "code",
   "execution_count": 6,
   "metadata": {},
   "outputs": [
    {
     "data": {
      "text/plain": [
       "47"
      ]
     },
     "execution_count": 6,
     "metadata": {},
     "output_type": "execute_result"
    }
   ],
   "source": [
    "incomplete_indices = [i for i in range(len(inputs)) if i not in corrupt_lines]\n",
    "len(incomplete_indices)"
   ]
  },
  {
   "cell_type": "code",
   "execution_count": 7,
   "metadata": {},
   "outputs": [],
   "source": [
    "incomplete_lines = [inputs[i] for i in incomplete_indices]\n",
    "# incomplete_lines"
   ]
  },
  {
   "cell_type": "code",
   "execution_count": 8,
   "metadata": {},
   "outputs": [
    {
     "data": {
      "text/plain": [
       "{'{': '}', '[': ']', '(': ')', '<': '>'}"
      ]
     },
     "execution_count": 8,
     "metadata": {},
     "output_type": "execute_result"
    }
   ],
   "source": [
    "closing = {v:k for k,v in matches.items()}\n",
    "closing"
   ]
  },
  {
   "cell_type": "code",
   "execution_count": 9,
   "metadata": {},
   "outputs": [
    {
     "data": {
      "text/plain": [
       "'({[[{[(([({((<[]>{[][]})[{<>[]}{[]{}}])[<[<><>][[]{}]>{[{}()][{}]}]}(<[{<>{}}[()]]<[{}[]]>><[{()}({}())]'"
      ]
     },
     "execution_count": 9,
     "metadata": {},
     "output_type": "execute_result"
    }
   ],
   "source": [
    "# for line in incomplete_lines:\n",
    "incomplete_lines[0]"
   ]
  },
  {
   "cell_type": "code",
   "execution_count": 10,
   "metadata": {},
   "outputs": [],
   "source": [
    "closing_sequences = []\n",
    "for line in incomplete_lines:\n",
    "    encountered = {\"<\":0, \"{\":0, \"(\":0, \"[\":0}\n",
    "    closing_seq= \"\"\n",
    "    for char in line[::-1]:\n",
    "        if char in encountered:\n",
    "            if encountered[char] <= 0:\n",
    "                closing_seq = closing_seq + closing[char]\n",
    "\n",
    "            else:\n",
    "                encountered[char] -= 1\n",
    "\n",
    "        else:\n",
    "            encountered[matches[char]] +=  1\n",
    "\n",
    "\n",
    "    closing_sequences.append(closing_seq)\n",
    "            "
   ]
  },
  {
   "cell_type": "code",
   "execution_count": 11,
   "metadata": {},
   "outputs": [],
   "source": [
    "def calculate_score(closing_string):\n",
    "    scores = {\")\":1,\n",
    "            \"}\":3,\n",
    "            \"]\":2,\n",
    "            \">\":4\n",
    "            }\n",
    "\n",
    "\n",
    "    s = 0\n",
    "\n",
    "    for i, char in enumerate(closing_string):\n",
    "        s = s*5 + scores[char]\n",
    "\n",
    "    return s"
   ]
  },
  {
   "cell_type": "code",
   "execution_count": 20,
   "metadata": {},
   "outputs": [
    {
     "name": "stdout",
     "output_type": "stream",
     "text": [
      "Answer for Part2 = 4361305341\n"
     ]
    }
   ],
   "source": [
    "incomplete_scores = [calculate_score(s) for s in closing_sequences]\n",
    "import numpy as np\n",
    "ANS2 = np.median(incomplete_scores).astype(\"int64\")\n",
    "print(f\"Answer for Part2 = {ANS2}\")"
   ]
  },
  {
   "cell_type": "markdown",
   "metadata": {},
   "source": [
    "-------------\n",
    "---------------"
   ]
  },
  {
   "cell_type": "markdown",
   "metadata": {},
   "source": []
  }
 ],
 "metadata": {
  "kernelspec": {
   "display_name": "Python 3.9.7 ('base')",
   "language": "python",
   "name": "python3"
  },
  "language_info": {
   "codemirror_mode": {
    "name": "ipython",
    "version": 3
   },
   "file_extension": ".py",
   "mimetype": "text/x-python",
   "name": "python",
   "nbconvert_exporter": "python",
   "pygments_lexer": "ipython3",
   "version": "3.9.7"
  },
  "orig_nbformat": 4,
  "vscode": {
   "interpreter": {
    "hash": "fcf5590ce2d789d46a180223f9dda6f8ae45e89a2999e90e1a0cea5d6d4587a5"
   }
  }
 },
 "nbformat": 4,
 "nbformat_minor": 2
}
