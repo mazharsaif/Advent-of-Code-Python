{
 "cells": [
  {
   "cell_type": "markdown",
   "metadata": {},
   "source": [
    "---------\n",
    "---------\n",
    "## Reading Input, Preprocessing"
   ]
  },
  {
   "cell_type": "code",
   "execution_count": 1,
   "metadata": {},
   "outputs": [
    {
     "name": "stdout",
     "output_type": "stream",
     "text": [
      "[(194, 556), (818, 920)] [(739, 556), (818, 524)]\n"
     ]
    }
   ],
   "source": [
    "with open(\"input.txt\", \"r\") as f:\n",
    "    inputs = f.readlines()\n",
    "    inputs = [i.strip().replace(\" -> \", \" \").split(\" \") for i in inputs]\n",
    "\n",
    "\n",
    "start_coords = [i[0].split(\",\") for i in inputs]\n",
    "start_coords = [(int(i[0]), int(i[1])) for i in start_coords]\n",
    "\n",
    "end_coords = [i[1].split(\",\") for i in inputs]\n",
    "end_coords = [(int(i[0]), int(i[1])) for i in end_coords]\n",
    "\n",
    "\n",
    "print(start_coords[:2], end_coords[:2])"
   ]
  },
  {
   "cell_type": "code",
   "execution_count": 2,
   "metadata": {},
   "outputs": [
    {
     "name": "stdout",
     "output_type": "stream",
     "text": [
      "xmax=989 ymax=989\n"
     ]
    }
   ],
   "source": [
    "sxmax, _ = max(start_coords, key=lambda x: x[0])\n",
    "exmax, _ = max(end_coords, key=lambda x: x[0])\n",
    "\n",
    "xmax = max(sxmax, exmax)\n",
    "\n",
    "\n",
    "_, symax = max(start_coords, key=lambda x: x[1])\n",
    "_, eymax = max(end_coords, key=lambda x: x[1])\n",
    "\n",
    "ymax = max(symax, eymax)\n",
    "\n",
    "print(f\"{xmax=}\", f\"{ymax=}\")"
   ]
  },
  {
   "cell_type": "code",
   "execution_count": 3,
   "metadata": {},
   "outputs": [],
   "source": [
    "vent_point_counter = [0 for i in range((xmax+1)*(ymax+1))]\n",
    "\n",
    "def vent_point_location(x, y):\n",
    "    return x + y*(ymax+1)"
   ]
  },
  {
   "cell_type": "markdown",
   "metadata": {},
   "source": [
    "------\n",
    "---------\n",
    "## Part-1"
   ]
  },
  {
   "cell_type": "code",
   "execution_count": 4,
   "metadata": {},
   "outputs": [
    {
     "data": {
      "text/plain": [
       "1980"
      ]
     },
     "execution_count": 4,
     "metadata": {},
     "output_type": "execute_result"
    }
   ],
   "source": [
    "vent_point_counter = [0 for i in range((xmax+1)*(ymax+1))]\n",
    "\n",
    "vent_point_location(0, 2)"
   ]
  },
  {
   "cell_type": "code",
   "execution_count": 5,
   "metadata": {},
   "outputs": [
    {
     "data": {
      "text/plain": [
       "((194, 556), (739, 556))"
      ]
     },
     "execution_count": 5,
     "metadata": {},
     "output_type": "execute_result"
    }
   ],
   "source": [
    "start_coords[0], end_coords[0]"
   ]
  },
  {
   "cell_type": "code",
   "execution_count": 6,
   "metadata": {},
   "outputs": [],
   "source": [
    "for start, end in zip(start_coords, end_coords):\n",
    "\n",
    "    x1, y1 = start\n",
    "    x2, y2 = end\n",
    "    if (x1==x2) or (y1==y2):\n",
    "        pass\n",
    "    else:\n",
    "        continue\n",
    "    \n",
    "\n",
    "    if x1 == x2:\n",
    "        for j in range(min(y1,y2), max(y1,y2)+1):\n",
    "            vent_point_counter[vent_point_location(x1, j)] +=1\n",
    "\n",
    "    if y1 == y2:\n",
    "        for i in range(min(x1,x2), max(x1,x2)+1):\n",
    "            vent_point_counter[vent_point_location(i, y1)] +=1\n"
   ]
  },
  {
   "cell_type": "code",
   "execution_count": 7,
   "metadata": {},
   "outputs": [
    {
     "data": {
      "text/plain": [
       "0    869253\n",
       "1    103762\n",
       "2      6861\n",
       "3       217\n",
       "4         7\n",
       "dtype: int64"
      ]
     },
     "execution_count": 7,
     "metadata": {},
     "output_type": "execute_result"
    }
   ],
   "source": [
    "import pandas as pd\n",
    "pd.Series(vent_point_counter).value_counts()"
   ]
  },
  {
   "cell_type": "code",
   "execution_count": 8,
   "metadata": {},
   "outputs": [
    {
     "name": "stdout",
     "output_type": "stream",
     "text": [
      "Answer for Part1 = 7085\n"
     ]
    }
   ],
   "source": [
    "ANS1 = 0\n",
    "for p in vent_point_counter:\n",
    "\n",
    "    if p >= 2:\n",
    "        ANS1 += 1\n",
    "\n",
    "\n",
    "print(f\"Answer for Part1 = {ANS1}\")"
   ]
  },
  {
   "cell_type": "markdown",
   "metadata": {},
   "source": [
    "-----  \n",
    "--------  \n",
    "## Part-2 NOT SOLVED YET"
   ]
  },
  {
   "cell_type": "code",
   "execution_count": null,
   "metadata": {},
   "outputs": [],
   "source": []
  }
 ],
 "metadata": {
  "kernelspec": {
   "display_name": "Python 3.9.7 ('base')",
   "language": "python",
   "name": "python3"
  },
  "language_info": {
   "codemirror_mode": {
    "name": "ipython",
    "version": 3
   },
   "file_extension": ".py",
   "mimetype": "text/x-python",
   "name": "python",
   "nbconvert_exporter": "python",
   "pygments_lexer": "ipython3",
   "version": "3.9.7"
  },
  "orig_nbformat": 4,
  "vscode": {
   "interpreter": {
    "hash": "fcf5590ce2d789d46a180223f9dda6f8ae45e89a2999e90e1a0cea5d6d4587a5"
   }
  }
 },
 "nbformat": 4,
 "nbformat_minor": 2
}
