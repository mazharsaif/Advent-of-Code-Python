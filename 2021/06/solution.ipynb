{
 "cells": [
  {
   "cell_type": "markdown",
   "metadata": {},
   "source": [
    "-------\n",
    "-----\n",
    "## Reading and Preprocessing Input"
   ]
  },
  {
   "cell_type": "code",
   "execution_count": 129,
   "metadata": {},
   "outputs": [],
   "source": [
    "with open(\"input.txt\", \"r\") as f:\n",
    "    fishes = f.readline().strip().split(\",\")\n",
    "    fishes = [int(i) for i in fishes]\n",
    "\n",
    " "
   ]
  },
  {
   "cell_type": "markdown",
   "metadata": {},
   "source": [
    "------\n",
    "---------\n",
    "## Part-1"
   ]
  },
  {
   "cell_type": "code",
   "execution_count": 124,
   "metadata": {},
   "outputs": [
    {
     "name": "stderr",
     "output_type": "stream",
     "text": [
      "100%|██████████| 80/80 [00:00<00:00, 2668.15it/s]"
     ]
    },
    {
     "name": "stdout",
     "output_type": "stream",
     "text": [
      "Answer for Part1 = 5934\n"
     ]
    },
    {
     "name": "stderr",
     "output_type": "stream",
     "text": [
      "\n"
     ]
    }
   ],
   "source": [
    "from tqdm import tqdm\n",
    "fishes =[3,4,3,1,2] # Uncomment for Sample Case\n",
    "\n",
    "for _ in tqdm(range(80)):\n",
    "    new_fishes = []\n",
    "    for i, f in enumerate(fishes):\n",
    "        \n",
    "        if f == 0:\n",
    "            fishes[i] = 6\n",
    "            new_fishes.append(8)\n",
    "        else:\n",
    "            fishes[i] -= 1\n",
    "    fishes.extend(new_fishes)\n",
    "\n",
    "ANS1 = len(fishes)\n",
    "print(f\"Answer for Part1 = {ANS1}\")"
   ]
  },
  {
   "cell_type": "markdown",
   "metadata": {},
   "source": [
    "------\n",
    "---------\n",
    "## Part-2"
   ]
  },
  {
   "cell_type": "code",
   "execution_count": 130,
   "metadata": {},
   "outputs": [],
   "source": [
    "# inputs =[3,4,3,1,2] # Uncomment for Sample Case\n",
    "# fishes = inputs"
   ]
  },
  {
   "cell_type": "code",
   "execution_count": 133,
   "metadata": {},
   "outputs": [],
   "source": [
    "with open(\"input.txt\", \"r\") as f:\n",
    "    fishes = f.readline().strip().split(\",\")\n",
    "    fishes = [int(i) for i in fishes]"
   ]
  },
  {
   "cell_type": "code",
   "execution_count": 134,
   "metadata": {},
   "outputs": [
    {
     "data": {
      "text/plain": [
       "defaultdict(int, {3: 66, 1: 69, 5: 58, 4: 61, 2: 46})"
      ]
     },
     "execution_count": 134,
     "metadata": {},
     "output_type": "execute_result"
    }
   ],
   "source": [
    "from collections import defaultdict\n",
    "fish_counter = defaultdict(int)\n",
    "\n",
    "\n",
    "for f in fishes:\n",
    "    fish_counter[f] += 1\n",
    "\n",
    "fish_counter   "
   ]
  },
  {
   "cell_type": "code",
   "execution_count": 135,
   "metadata": {},
   "outputs": [
    {
     "name": "stdout",
     "output_type": "stream",
     "text": [
      "Answer for Part2 = 1572643095893\n"
     ]
    }
   ],
   "source": [
    "for _ in range(256):\n",
    "    temp_new_counter = defaultdict(int)\n",
    "    for f in fish_counter:\n",
    "        num_fishes = fish_counter[f]\n",
    "        # temp_new_counter[f] = 0\n",
    "        if f == 0:\n",
    "            temp_new_counter[6] += num_fishes\n",
    "            temp_new_counter[8] = num_fishes\n",
    "\n",
    "        else:\n",
    "            temp_new_counter[f-1] += num_fishes\n",
    "\n",
    "    fish_counter = temp_new_counter\n",
    "\n",
    "\n",
    "ANS2 = sum(fish_counter.values())\n",
    "print(f\"Answer for Part2 = {ANS2}\")"
   ]
  },
  {
   "cell_type": "markdown",
   "metadata": {},
   "source": [
    "------\n",
    "---"
   ]
  }
 ],
 "metadata": {
  "kernelspec": {
   "display_name": "Python 3.7.13 ('mlm_score')",
   "language": "python",
   "name": "python3"
  },
  "language_info": {
   "codemirror_mode": {
    "name": "ipython",
    "version": 3
   },
   "file_extension": ".py",
   "mimetype": "text/x-python",
   "name": "python",
   "nbconvert_exporter": "python",
   "pygments_lexer": "ipython3",
   "version": "3.7.13"
  },
  "orig_nbformat": 4,
  "vscode": {
   "interpreter": {
    "hash": "635ee171a2de97dc2920877c5e018fb482d4dad13bb812621bda873b3d8e7035"
   }
  }
 },
 "nbformat": 4,
 "nbformat_minor": 2
}
