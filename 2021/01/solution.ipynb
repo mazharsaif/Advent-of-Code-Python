{
 "cells": [
  {
   "cell_type": "markdown",
   "metadata": {},
   "source": [
    "Link to Problem Site: https://adventofcode.com/2021/day/1"
   ]
  },
  {
   "cell_type": "markdown",
   "metadata": {},
   "source": [
    "-------\n",
    "-----\n",
    "## Reading and Preprocessing Input"
   ]
  },
  {
   "cell_type": "code",
   "execution_count": 19,
   "metadata": {},
   "outputs": [],
   "source": [
    "with open('input.txt', 'r') as f:\n",
    "    lines = f.readlines()\n",
    "    measurements = [int(entry.strip()) for entry in lines]"
   ]
  },
  {
   "cell_type": "markdown",
   "metadata": {},
   "source": [
    "------\n",
    "---------\n",
    "## Part-1"
   ]
  },
  {
   "cell_type": "code",
   "execution_count": 10,
   "metadata": {},
   "outputs": [
    {
     "name": "stdout",
     "output_type": "stream",
     "text": [
      "Answer for Part1 = 1759\n"
     ]
    }
   ],
   "source": [
    "# measurements = [199, 200, 208, 210, 200, 207, 240 ,269, 260, 263] #Sample Case\n",
    "ANS1 = 0\n",
    "prev_val = measurements[0]\n",
    "for val in measurements[1:]:\n",
    "    if val>prev_val:\n",
    "        ANS1 +=1\n",
    "    prev_val = val\n",
    "\n",
    "\n",
    "print(f\"Answer for Part1 = {ANS1}\")"
   ]
  },
  {
   "cell_type": "markdown",
   "metadata": {},
   "source": [
    "-----  \n",
    "--------  \n",
    "## Part-2"
   ]
  },
  {
   "cell_type": "code",
   "execution_count": 21,
   "metadata": {},
   "outputs": [
    {
     "name": "stdout",
     "output_type": "stream",
     "text": [
      "Answer for Part2 = 1805\n"
     ]
    }
   ],
   "source": [
    "import numpy as np\n",
    "\n",
    "# measurements = [607, 618, 618, 617, 647, 716, 769, 792] # Sample Case2\n",
    "sliding_windows = np.convolve(measurements, np.ones(3), 'valid')\n",
    "\n",
    "\n",
    "ANS2 = 0\n",
    "prev_val = sliding_windows[0]\n",
    "for val in sliding_windows[1:]:\n",
    "    if val>prev_val:\n",
    "        ANS2 +=1\n",
    "    prev_val = val\n",
    "print(f\"Answer for Part2 = {ANS2}\")"
   ]
  },
  {
   "cell_type": "markdown",
   "metadata": {},
   "source": [
    "-------\n",
    "-------"
   ]
  }
 ],
 "metadata": {
  "kernelspec": {
   "display_name": "Python 3.9.7 ('base')",
   "language": "python",
   "name": "python3"
  },
  "language_info": {
   "codemirror_mode": {
    "name": "ipython",
    "version": 3
   },
   "file_extension": ".py",
   "mimetype": "text/x-python",
   "name": "python",
   "nbconvert_exporter": "python",
   "pygments_lexer": "ipython3",
   "version": "3.9.7"
  },
  "orig_nbformat": 4,
  "vscode": {
   "interpreter": {
    "hash": "fcf5590ce2d789d46a180223f9dda6f8ae45e89a2999e90e1a0cea5d6d4587a5"
   }
  }
 },
 "nbformat": 4,
 "nbformat_minor": 2
}
