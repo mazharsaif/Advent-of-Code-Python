{
 "cells": [
  {
   "cell_type": "markdown",
   "metadata": {},
   "source": [
    "Link to Problem Site: https://adventofcode.com/2021/day/2"
   ]
  },
  {
   "cell_type": "markdown",
   "metadata": {},
   "source": [
    "-------\n",
    "-----\n",
    "## Reading and Preprocessing Input"
   ]
  },
  {
   "cell_type": "code",
   "execution_count": 3,
   "metadata": {},
   "outputs": [],
   "source": [
    "with open(\"input.txt\", \"r\") as f:\n",
    "    steps = f.readlines()\n",
    "    steps = [step.strip().split() for step in steps]\n",
    "\n",
    "    sizes = [int(i[1]) for i in steps]\n",
    "    steps = [i[0] for i in steps]\n",
    "\n",
    "\n",
    "# steps[:4], steps[:4] == (['forward', 'forward', 'forward', 'down'], [9, 7, 4, 7]) "
   ]
  },
  {
   "cell_type": "markdown",
   "metadata": {},
   "source": [
    "------\n",
    "---------\n",
    "## Part-1"
   ]
  },
  {
   "cell_type": "code",
   "execution_count": 6,
   "metadata": {},
   "outputs": [
    {
     "name": "stdout",
     "output_type": "stream",
     "text": [
      "Answer for Part1 = 2117664\n"
     ]
    }
   ],
   "source": [
    "horizontal_disp = 0\n",
    "vertical_disp = 0\n",
    "\n",
    "for step, size in zip(steps, sizes):\n",
    "    if step == \"forward\":\n",
    "        horizontal_disp += size\n",
    "        \n",
    "    elif step == \"down\":\n",
    "        vertical_disp += size\n",
    "\n",
    "    elif step == \"up\":\n",
    "        vertical_disp -= size\n",
    "\n",
    "    else:\n",
    "        raise ValueError(\"invalid step direction\")\n",
    "\n",
    "ANS1 = horizontal_disp*vertical_disp\n",
    "\n",
    "print(f\"Answer for Part1 = {ANS1}\")"
   ]
  },
  {
   "cell_type": "markdown",
   "metadata": {},
   "source": [
    "-------\n",
    "--------\n",
    "## Part-2"
   ]
  },
  {
   "cell_type": "code",
   "execution_count": 38,
   "metadata": {},
   "outputs": [],
   "source": [
    "# SampleCase2\n",
    "# steps = [\"forward\", \"down\", \"forward\", \"up\", \"down\", \"forward\"]\n",
    "# sizes = [5, 5, 8, 3, 8, 2]"
   ]
  },
  {
   "cell_type": "code",
   "execution_count": 8,
   "metadata": {},
   "outputs": [
    {
     "name": "stdout",
     "output_type": "stream",
     "text": [
      "Answer for Part2 = 2073416724\n"
     ]
    }
   ],
   "source": [
    "horizontal_disp = 0\n",
    "vertical_disp = 0\n",
    "aim = 0\n",
    "\n",
    "for step, size in zip(steps, sizes):\n",
    "    if step == \"forward\":\n",
    "        horizontal_disp += size\n",
    "        vertical_disp += size*aim\n",
    "\n",
    "    elif step == \"down\":\n",
    "        aim += size\n",
    "        \n",
    "    elif step == \"up\":\n",
    "        aim -= size\n",
    "\n",
    "    else:\n",
    "        raise ValueError(\"invalid step direction\")\n",
    "\n",
    "\n",
    "ANS2 = horizontal_disp*vertical_disp\n",
    "\n",
    "print(f\"Answer for Part2 = {ANS2}\")"
   ]
  },
  {
   "cell_type": "code",
   "execution_count": null,
   "metadata": {},
   "outputs": [],
   "source": []
  }
 ],
 "metadata": {
  "kernelspec": {
   "display_name": "Python 3.9.7 ('base')",
   "language": "python",
   "name": "python3"
  },
  "language_info": {
   "codemirror_mode": {
    "name": "ipython",
    "version": 3
   },
   "file_extension": ".py",
   "mimetype": "text/x-python",
   "name": "python",
   "nbconvert_exporter": "python",
   "pygments_lexer": "ipython3",
   "version": "3.9.7"
  },
  "orig_nbformat": 4,
  "vscode": {
   "interpreter": {
    "hash": "fcf5590ce2d789d46a180223f9dda6f8ae45e89a2999e90e1a0cea5d6d4587a5"
   }
  }
 },
 "nbformat": 4,
 "nbformat_minor": 2
}
