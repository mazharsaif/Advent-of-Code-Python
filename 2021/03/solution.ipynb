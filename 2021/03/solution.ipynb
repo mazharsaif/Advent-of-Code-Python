{
 "cells": [
  {
   "cell_type": "markdown",
   "metadata": {},
   "source": [
    "-------\n",
    "-----\n",
    "## Reading and Preprocessing Input"
   ]
  },
  {
   "cell_type": "code",
   "execution_count": 1,
   "metadata": {},
   "outputs": [
    {
     "name": "stdout",
     "output_type": "stream",
     "text": [
      "1000\n",
      "101001100010\n"
     ]
    }
   ],
   "source": [
    "with open(\"input.txt\",\"r\") as f:\n",
    "    diagnostic_numbers = f.readlines()\n",
    "    diagnostic_numbers = [i.strip() for i in diagnostic_numbers]\n",
    "\n",
    "print(len(diagnostic_numbers))\n",
    "print(diagnostic_numbers[0])"
   ]
  },
  {
   "cell_type": "markdown",
   "metadata": {},
   "source": [
    "------\n",
    "---------\n",
    "## Part-1"
   ]
  },
  {
   "cell_type": "code",
   "execution_count": null,
   "metadata": {},
   "outputs": [],
   "source": [
    "bit_freq1 = [0]*12\n",
    "for num in diagnostic_numbers:\n",
    "    for i, bit in enumerate(num):\n",
    "        if bit == \"1\":\n",
    "            bit_freq1[i] += 1\n",
    "            \n",
    "\n",
    "gamma_rate = [0]*12\n",
    "epsilon_rate = [0]*12\n",
    "\n",
    "\n",
    "for i, freq in enumerate(bit_freq1):\n",
    "\n",
    "    if freq == len(diagnostic_numbers)/2:\n",
    "        raise ValueError(\"Edge case\")\n",
    "\n",
    "    elif freq > len(diagnostic_numbers)/2:\n",
    "        gamma_rate[i] = 1\n",
    "        epsilon_rate[i] = 0\n",
    "\n",
    "    else:\n",
    "        gamma_rate[i] = 0\n",
    "        epsilon_rate[i] = 1\n",
    "\n",
    "\n",
    "\n",
    "gamma_rate_bin = \"\".join([str(i) for i in gamma_rate])\n",
    "epsilon_rate_bin = \"\".join([str(i) for i in epsilon_rate])\n",
    "\n",
    "\n",
    "epsilon_rate = int(epsilon_rate_bin, base=2)\n",
    "gamma_rate = int(gamma_rate_bin, base=2)\n",
    "\n",
    "ANS1 = gamma_rate * epsilon_rate\n",
    "\n",
    "\n",
    "print(f\"Answer for Part1 = {ANS1}\")"
   ]
  },
  {
   "cell_type": "markdown",
   "metadata": {},
   "source": [
    "------\n",
    "---------\n",
    "## Part-2"
   ]
  },
  {
   "cell_type": "code",
   "execution_count": 25,
   "metadata": {},
   "outputs": [],
   "source": [
    "def get_most_common_bit(bit_place:int, diag_list:list[str], equality_preference:str)->str:\n",
    "    freq_1 = freq_0 = 0\n",
    "    for num in diag_list:\n",
    "        if num[bit_place] ==\"1\":\n",
    "            freq_1 += 1\n",
    "        else:\n",
    "            freq_0 += 1\n",
    "\n",
    "\n",
    "    if freq_1 > freq_0:\n",
    "        return \"1\"\n",
    "    if freq_1 < freq_0:\n",
    "        return \"0\"\n",
    "\n",
    "    if equality_preference==\"1\":\n",
    "        return \"1\"\n",
    "    \n",
    "    return \"0\"\n",
    "\n",
    "\n",
    "def get_least_common_bit(bit_place:int, diag_list:list[str], equality_preference:str)->str:\n",
    "    freq_1 = freq_0 = 0\n",
    "    for num in diag_list:\n",
    "        if num[bit_place] ==\"1\":\n",
    "            freq_1 += 1\n",
    "        else:\n",
    "            freq_0 += 1\n",
    "\n",
    "\n",
    "    if freq_1 > freq_0:\n",
    "        return \"0\"\n",
    "    if freq_1 < freq_0:\n",
    "        return \"1\"\n",
    "\n",
    "    if equality_preference==\"1\":\n",
    "        return \"1\"\n",
    "    \n",
    "    return \"0\""
   ]
  },
  {
   "cell_type": "code",
   "execution_count": 26,
   "metadata": {},
   "outputs": [
    {
     "name": "stdout",
     "output_type": "stream",
     "text": [
      "Oxygen Rating =  282\n",
      "Scrubber Rating =  3205\n",
      "\n",
      "Answer for Part2 = 903810\n"
     ]
    }
   ],
   "source": [
    "from copy import copy\n",
    "ogr_bin = copy(diagnostic_numbers)\n",
    "\n",
    "for i in range(12):\n",
    "    mcb = get_most_common_bit(i, diag_list=ogr_bin , equality_preference=\"1\")\n",
    "    ogr_bin  = [n for n in ogr_bin  if n[i]==mcb]\n",
    "\n",
    "\n",
    "    if len(ogr_bin )==1:\n",
    "        ogr_bin  = ogr_bin[0]\n",
    "        break\n",
    "\n",
    "\n",
    "\n",
    "scr_bin = copy(diagnostic_numbers)\n",
    "for i in range(12):\n",
    "    lcb = get_least_common_bit(i, diag_list=scr_bin, equality_preference=\"0\")\n",
    "    scr_bin = [n for n in scr_bin if n[i]==lcb]\n",
    "    if len(scr_bin)==1:\n",
    "        scr_bin = scr_bin[0]\n",
    "        break\n",
    "\n",
    "\n",
    "ogr = int(ogr_bin, base=2)\n",
    "scr = int(scr_bin, base=2)\n",
    "print(\"Oxygen Rating = \", ogr)\n",
    "print(\"Scrubber Rating = \", scr, end=\"\\n\\n\")\n",
    "\n",
    "\n",
    "\n",
    "\n",
    "ANS2 = ogr * scr\n",
    "print(f\"Answer for Part2 = {ANS2}\")"
   ]
  },
  {
   "cell_type": "code",
   "execution_count": null,
   "metadata": {},
   "outputs": [],
   "source": []
  },
  {
   "cell_type": "code",
   "execution_count": null,
   "metadata": {},
   "outputs": [],
   "source": []
  }
 ],
 "metadata": {
  "kernelspec": {
   "display_name": "Python 3.9.7 ('base')",
   "language": "python",
   "name": "python3"
  },
  "language_info": {
   "codemirror_mode": {
    "name": "ipython",
    "version": 3
   },
   "file_extension": ".py",
   "mimetype": "text/x-python",
   "name": "python",
   "nbconvert_exporter": "python",
   "pygments_lexer": "ipython3",
   "version": "3.9.7"
  },
  "orig_nbformat": 4,
  "vscode": {
   "interpreter": {
    "hash": "fcf5590ce2d789d46a180223f9dda6f8ae45e89a2999e90e1a0cea5d6d4587a5"
   }
  }
 },
 "nbformat": 4,
 "nbformat_minor": 2
}
