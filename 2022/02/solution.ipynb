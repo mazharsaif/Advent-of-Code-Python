{
 "cells": [
  {
   "cell_type": "markdown",
   "metadata": {},
   "source": [
    "### Reading Preprocessing Input"
   ]
  },
  {
   "cell_type": "code",
   "execution_count": 43,
   "metadata": {},
   "outputs": [
    {
     "data": {
      "text/plain": [
       "['P Z', 'P Z', 'P Y', 'S Y', 'P Y', 'S Y', 'S Y', 'R Z', 'P Y', 'R Y']"
      ]
     },
     "execution_count": 43,
     "metadata": {},
     "output_type": "execute_result"
    }
   ],
   "source": [
    "with open(\"input.txt\", \"r\") as f:\n",
    "    games = f.read().replace(\"A\", \"R\").replace(\"B\", \"P\").replace(\"C\", \"S\")\n",
    "    games = games.strip().split(\"\\n\")\n",
    "games[:10]"
   ]
  },
  {
   "cell_type": "code",
   "execution_count": 44,
   "metadata": {},
   "outputs": [],
   "source": [
    "# op_moves = [i.split(\" \")[0] for i in games]\n",
    "# my_moves = [i.split(\" \")[1] for i in games]\n"
   ]
  },
  {
   "cell_type": "code",
   "execution_count": 45,
   "metadata": {},
   "outputs": [],
   "source": [
    "# games[0]"
   ]
  },
  {
   "cell_type": "markdown",
   "metadata": {},
   "source": [
    "------------\n",
    "-----------\n",
    "### Part-1"
   ]
  },
  {
   "cell_type": "code",
   "execution_count": 46,
   "metadata": {},
   "outputs": [],
   "source": [
    "def rps_play_p1(game):\n",
    "    op_move, my_move = game.split(\" \")\n",
    "\n",
    "    shape_scores = {\"X\":1, \"Y\":2, \"Z\":3}\n",
    "    s_score = shape_scores.get(my_move)\n",
    "\n",
    "    if my_move == \"X\" and op_move == \"R\": outcome_score = 3\n",
    "    if my_move == \"Y\" and op_move == \"P\": outcome_score = 3\n",
    "    if my_move == \"Z\" and op_move == \"S\": outcome_score = 3\n",
    "\n",
    "    if my_move == \"X\" and op_move == \"P\": outcome_score = 0\n",
    "    if my_move == \"X\" and op_move == \"S\": outcome_score = 6\n",
    "\n",
    "    if my_move == \"Y\" and op_move == \"R\": outcome_score = 6\n",
    "    if my_move == \"Y\" and op_move == \"S\": outcome_score = 0\n",
    "\n",
    "    if my_move == \"Z\" and op_move == \"R\": outcome_score = 0\n",
    "    if my_move == \"Z\" and op_move == \"P\": outcome_score = 6\n",
    "\n",
    "\n",
    "    return s_score + outcome_score"
   ]
  },
  {
   "cell_type": "code",
   "execution_count": 47,
   "metadata": {},
   "outputs": [
    {
     "data": {
      "text/plain": [
       "13005"
      ]
     },
     "execution_count": 47,
     "metadata": {},
     "output_type": "execute_result"
    }
   ],
   "source": [
    "scores = [rps_play(game) for game in games]\n",
    "ANS1 = sum(scores)\n",
    "ANS1"
   ]
  },
  {
   "cell_type": "markdown",
   "metadata": {},
   "source": [
    "------------\n",
    "-----------\n",
    "### Part-2"
   ]
  },
  {
   "cell_type": "code",
   "execution_count": 58,
   "metadata": {},
   "outputs": [
    {
     "data": {
      "text/plain": [
       "'S'"
      ]
     },
     "execution_count": 58,
     "metadata": {},
     "output_type": "execute_result"
    }
   ],
   "source": [
    "def get_required_move(game):\n",
    "    op_move, game_outcome = game.split(\" \")\n",
    "    if game_outcome == \"Y\":\n",
    "        return op_move\n",
    "\n",
    "    if game_outcome == \"X\":\n",
    "        if op_move == \"R\": return \"S\"\n",
    "        if op_move == \"P\": return \"R\"\n",
    "        if op_move == \"S\": return \"P\"\n",
    "\n",
    "    if game_outcome == \"Z\":\n",
    "        if op_move == \"S\": return \"R\"\n",
    "        if op_move == \"R\": return \"P\"\n",
    "        if op_move == \"P\": return \"S\"\n",
    "\n",
    "get_required_move(\"P Z\")"
   ]
  },
  {
   "cell_type": "code",
   "execution_count": 84,
   "metadata": {},
   "outputs": [
    {
     "data": {
      "text/plain": [
       "(['P', 'P', 'P', 'S'], ['S', 'S', 'P', 'S'])"
      ]
     },
     "execution_count": 84,
     "metadata": {},
     "output_type": "execute_result"
    }
   ],
   "source": [
    "game_outcomes = [i[2] for i in games]\n",
    "\n",
    "my_moves_p2 = [get_required_move(i) for i in games]\n",
    "op_moves = [i[0] for i in games]\n",
    "op_moves[:4], my_moves_p2[:4]\n"
   ]
  },
  {
   "cell_type": "code",
   "execution_count": 86,
   "metadata": {},
   "outputs": [],
   "source": [
    "def rps_play_p2(my_move, game_outcome):\n",
    "    shape_scores = {\"R\":1, \"P\":2, \"S\":3}\n",
    "    s_score = shape_scores.get(my_move)\n",
    "\n",
    "    outcome_score = {\"X\":0, \"Y\":3, \"Z\":6}\n",
    "    return outcome_score.get(game_outcome) + s_score\n",
    "    "
   ]
  },
  {
   "cell_type": "code",
   "execution_count": 87,
   "metadata": {},
   "outputs": [
    {
     "data": {
      "text/plain": [
       "11373"
      ]
     },
     "execution_count": 87,
     "metadata": {},
     "output_type": "execute_result"
    }
   ],
   "source": [
    "scores = [rps_play_p2(my_moves_p2[i], game_outcomes[i]) for i in range(len(my_moves_p2))]\n",
    "ANS2 = sum(scores)\n",
    "ANS2"
   ]
  },
  {
   "cell_type": "code",
   "execution_count": null,
   "metadata": {},
   "outputs": [],
   "source": []
  }
 ],
 "metadata": {
  "kernelspec": {
   "display_name": "Python 3.9.7 ('base')",
   "language": "python",
   "name": "python3"
  },
  "language_info": {
   "codemirror_mode": {
    "name": "ipython",
    "version": 3
   },
   "file_extension": ".py",
   "mimetype": "text/x-python",
   "name": "python",
   "nbconvert_exporter": "python",
   "pygments_lexer": "ipython3",
   "version": "3.9.7"
  },
  "orig_nbformat": 4,
  "vscode": {
   "interpreter": {
    "hash": "fcf5590ce2d789d46a180223f9dda6f8ae45e89a2999e90e1a0cea5d6d4587a5"
   }
  }
 },
 "nbformat": 4,
 "nbformat_minor": 2
}
