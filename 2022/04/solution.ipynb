{
 "cells": [
  {
   "cell_type": "markdown",
   "metadata": {},
   "source": [
    "### Reading Preprocessing Input"
   ]
  },
  {
   "cell_type": "code",
   "execution_count": 3,
   "metadata": {},
   "outputs": [
    {
     "data": {
      "text/plain": [
       "[((22, 77), (14, 96)),\n",
       " ((7, 99), (65, 98)),\n",
       " ((22, 36), (37, 62)),\n",
       " ((25, 94), (24, 67)),\n",
       " ((6, 91), (1, 6))]"
      ]
     },
     "execution_count": 3,
     "metadata": {},
     "output_type": "execute_result"
    }
   ],
   "source": [
    "with open(\"input.txt\", \"r\") as f:\n",
    "    section_assignments = f.read().rstrip()\n",
    "\n",
    "section_assignments = section_assignments.split(\"\\n\")\n",
    "\n",
    "section_assignments = [i.split(\",\") for i in section_assignments]\n",
    "\n",
    "def get_section_range(section_string):\n",
    "    start, stop = section_string.split('-')\n",
    "    start, stop = int(start), int(stop)\n",
    "\n",
    "    return(start, stop)\n",
    "\n",
    "def process_section_assignments_inputs(assignment_string1, assignment_string2):\n",
    "    return get_section_range(assignment_string1), get_section_range(assignment_string2)\n",
    "\n",
    "section_assignments = [process_section_assignments_inputs(*i) for i in section_assignments]\n",
    "section_assignments[:5]"
   ]
  },
  {
   "cell_type": "markdown",
   "metadata": {},
   "source": [
    "------------\n",
    "-----------\n",
    "### Part-1"
   ]
  },
  {
   "cell_type": "code",
   "execution_count": 15,
   "metadata": {},
   "outputs": [],
   "source": [
    "def is_range_contained_in_other(range1, range2):\n",
    "\n",
    "    if range2[0]==range1[0]:\n",
    "        return 1\n",
    "\n",
    "    if range1[0] > range2[0]:\n",
    "        range1, range2 = range2, range1\n",
    "\n",
    "\n",
    "    if range1[1] >= range2[1]:\n",
    "        return 1\n",
    "\n",
    "    return 0"
   ]
  },
  {
   "cell_type": "code",
   "execution_count": 16,
   "metadata": {},
   "outputs": [
    {
     "data": {
      "text/plain": [
       "532"
      ]
     },
     "execution_count": 16,
     "metadata": {},
     "output_type": "execute_result"
    }
   ],
   "source": [
    "ANS1 = sum([is_range_contained_in_other(*i) for i in section_assignments])\n",
    "ANS1\n"
   ]
  },
  {
   "cell_type": "markdown",
   "metadata": {},
   "source": [
    "------------\n",
    "-----------\n",
    "### Part-2"
   ]
  },
  {
   "cell_type": "code",
   "execution_count": 20,
   "metadata": {},
   "outputs": [],
   "source": [
    "def intersecting_ranges(range1, range2):\n",
    "    l1, r1 = range1\n",
    "    r1 += 1\n",
    "    l2, r2 = range2\n",
    "    r2 += 1\n",
    "    for i in range(l1, r1):\n",
    "        if i in range(l2, r2):\n",
    "            return 1\n",
    "\n",
    "    return 0"
   ]
  },
  {
   "cell_type": "code",
   "execution_count": 26,
   "metadata": {},
   "outputs": [
    {
     "data": {
      "text/plain": [
       "854"
      ]
     },
     "execution_count": 26,
     "metadata": {},
     "output_type": "execute_result"
    }
   ],
   "source": [
    "ANS2 = sum([intersecting_ranges(*i) for i in section_assignments])\n",
    "ANS2"
   ]
  },
  {
   "cell_type": "markdown",
   "metadata": {},
   "source": []
  }
 ],
 "metadata": {
  "kernelspec": {
   "display_name": "Python 3.9.7 ('base')",
   "language": "python",
   "name": "python3"
  },
  "language_info": {
   "codemirror_mode": {
    "name": "ipython",
    "version": 3
   },
   "file_extension": ".py",
   "mimetype": "text/x-python",
   "name": "python",
   "nbconvert_exporter": "python",
   "pygments_lexer": "ipython3",
   "version": "3.9.7"
  },
  "orig_nbformat": 4,
  "vscode": {
   "interpreter": {
    "hash": "fcf5590ce2d789d46a180223f9dda6f8ae45e89a2999e90e1a0cea5d6d4587a5"
   }
  }
 },
 "nbformat": 4,
 "nbformat_minor": 2
}
