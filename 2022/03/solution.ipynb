{
 "cells": [
  {
   "cell_type": "markdown",
   "metadata": {},
   "source": [
    "### Reading Preprocessing Input"
   ]
  },
  {
   "cell_type": "code",
   "execution_count": 3,
   "metadata": {},
   "outputs": [],
   "source": [
    "with open(\"input.txt\", \"r\") as f:\n",
    "    rucksacks = f.read().strip().split(\"\\n\")\n",
    "\n",
    "    ## Verify each half of rucksack has equal no. of items\n",
    "    for i, line in enumerate(rucksacks):\n",
    "        assert len(line)%2 == 0.0"
   ]
  },
  {
   "cell_type": "markdown",
   "metadata": {},
   "source": [
    "------------\n",
    "-----------\n",
    "### Part-1"
   ]
  },
  {
   "cell_type": "code",
   "execution_count": 32,
   "metadata": {},
   "outputs": [],
   "source": [
    "incorrect_items = []\n",
    "for i, rsack in enumerate(rucksacks):\n",
    "    sack_half_1 = rsack[:len(rsack)//2]\n",
    "    sack_half_2 = rsack[len(rsack)//2:]\n",
    "\n",
    "\n",
    "    common_item = set(sack_half_1).intersection(set(sack_half_2))\n",
    "    assert len(common_item) ==1\n",
    "    incorrect_items.append(list(common_item)[0])\n"
   ]
  },
  {
   "cell_type": "code",
   "execution_count": 50,
   "metadata": {},
   "outputs": [
    {
     "data": {
      "text/plain": [
       "8493"
      ]
     },
     "execution_count": 50,
     "metadata": {},
     "output_type": "execute_result"
    }
   ],
   "source": [
    "import string\n",
    "\n",
    "ANS1 = 0\n",
    "for item in incorrect_items:\n",
    "    if item in string.ascii_uppercase:\n",
    "        p = ord(item)-65+27\n",
    "\n",
    "    else:\n",
    "        p = ord(item)-97+1\n",
    "\n",
    "    ANS1 += p\n",
    "\n",
    "ANS1"
   ]
  },
  {
   "cell_type": "markdown",
   "metadata": {},
   "source": [
    "------------\n",
    "-----------\n",
    "### Part-2"
   ]
  },
  {
   "cell_type": "code",
   "execution_count": 55,
   "metadata": {},
   "outputs": [],
   "source": [
    "groups = []\n",
    "for i, rsack in enumerate(rucksacks):\n",
    "    while i>=3:\n",
    "        i = i%3\n",
    "\n",
    "    if i==0: groups.append([])\n",
    "\n",
    "    groups[-1].append(rsack)"
   ]
  },
  {
   "cell_type": "code",
   "execution_count": 64,
   "metadata": {},
   "outputs": [],
   "source": [
    "incorrect_items = []\n",
    "for group in groups:\n",
    "    common_item = set(group[0]).intersection(set(group[1])).intersection(set(group[2]))\n",
    "    assert len(common_item) == 1\n",
    "    common_item = list(common_item)[0]\n",
    "    incorrect_items.append(common_item)  "
   ]
  },
  {
   "cell_type": "code",
   "execution_count": 65,
   "metadata": {},
   "outputs": [
    {
     "data": {
      "text/plain": [
       "2552"
      ]
     },
     "execution_count": 65,
     "metadata": {},
     "output_type": "execute_result"
    }
   ],
   "source": [
    "ANS2 = 0\n",
    "for item in incorrect_items:\n",
    "    if item in string.ascii_uppercase:\n",
    "        p = ord(item)-65+27\n",
    "\n",
    "    else:\n",
    "        p = ord(item)-97+1\n",
    "\n",
    "    ANS2 += p\n",
    "\n",
    "ANS2"
   ]
  },
  {
   "cell_type": "markdown",
   "metadata": {},
   "source": [
    "--------\n",
    "------"
   ]
  }
 ],
 "metadata": {
  "kernelspec": {
   "display_name": "Python 3.9.7 ('base')",
   "language": "python",
   "name": "python3"
  },
  "language_info": {
   "codemirror_mode": {
    "name": "ipython",
    "version": 3
   },
   "file_extension": ".py",
   "mimetype": "text/x-python",
   "name": "python",
   "nbconvert_exporter": "python",
   "pygments_lexer": "ipython3",
   "version": "3.9.7"
  },
  "orig_nbformat": 4,
  "vscode": {
   "interpreter": {
    "hash": "fcf5590ce2d789d46a180223f9dda6f8ae45e89a2999e90e1a0cea5d6d4587a5"
   }
  }
 },
 "nbformat": 4,
 "nbformat_minor": 2
}
