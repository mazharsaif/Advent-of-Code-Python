{
 "cells": [
  {
   "cell_type": "markdown",
   "metadata": {},
   "source": [
    "### Reading Preprocessing Input"
   ]
  },
  {
   "cell_type": "code",
   "execution_count": 47,
   "metadata": {},
   "outputs": [
    {
     "data": {
      "text/plain": [
       "['        [Q] [B]         [H]        ',\n",
       " '    [F] [W] [D] [Q]     [S]        ',\n",
       " '    [D] [C] [N] [S] [G] [F]        ',\n",
       " '    [R] [D] [L] [C] [N] [Q]     [R]',\n",
       " '[V] [W] [L] [M] [P] [S] [M]     [M]',\n",
       " '[J] [B] [F] [P] [B] [B] [P] [F] [F]',\n",
       " '[B] [V] [G] [J] [N] [D] [B] [L] [V]',\n",
       " '[D] [P] [R] [W] [H] [R] [Z] [W] [S]']"
      ]
     },
     "execution_count": 47,
     "metadata": {},
     "output_type": "execute_result"
    }
   ],
   "source": [
    "with open(\"input.txt\", \"r\") as f:\n",
    "    data = f.read().rstrip().split(\"\\n\")\n",
    "\n",
    "crates = [line for line in data if '[' in line]\n",
    "moves = [line for line in data if 'move' in line]\n",
    "\n",
    "\n",
    "crates"
   ]
  },
  {
   "cell_type": "code",
   "execution_count": 49,
   "metadata": {},
   "outputs": [],
   "source": [
    "stacks = [[] for i in range(9)]\n",
    "\n",
    "for i, block in enumerate([1, 5, 9, 13, 17, 21, 25, 29, 33]):\n",
    "    for r in crates[::-1]:\n",
    "        if r[block] != \" \":\n",
    "            stacks[i].append(r[block])"
   ]
  },
  {
   "cell_type": "code",
   "execution_count": 50,
   "metadata": {},
   "outputs": [],
   "source": [
    "def process_moves(moves):\n",
    "    import re\n",
    "    processed_moves = []\n",
    "    for m in moves:\n",
    "        m = re.findall(r\"\\d+\", m)\n",
    "        m = [int(i) for i in m]\n",
    "        processed_moves.append(m)\n",
    "\n",
    "    return processed_moves\n",
    "\n",
    "moves = process_moves(moves)"
   ]
  },
  {
   "cell_type": "code",
   "execution_count": 51,
   "metadata": {},
   "outputs": [
    {
     "data": {
      "text/plain": [
       "[['D', 'B', 'J', 'V'],\n",
       " ['P', 'V', 'B', 'W', 'R', 'D', 'F'],\n",
       " ['R', 'G', 'F', 'L', 'D', 'C', 'W', 'Q'],\n",
       " ['W', 'J', 'P', 'M', 'L', 'N', 'D', 'B'],\n",
       " ['H', 'N', 'B', 'P', 'C', 'S', 'Q'],\n",
       " ['R', 'D', 'B', 'S', 'N', 'G'],\n",
       " ['Z', 'B', 'P', 'M', 'Q', 'F', 'S', 'H'],\n",
       " ['W', 'L', 'F'],\n",
       " ['S', 'V', 'F', 'M', 'R']]"
      ]
     },
     "execution_count": 51,
     "metadata": {},
     "output_type": "execute_result"
    }
   ],
   "source": [
    "stacks"
   ]
  },
  {
   "cell_type": "markdown",
   "metadata": {},
   "source": [
    "------------\n",
    "-----------\n",
    "### Part-1"
   ]
  },
  {
   "cell_type": "code",
   "execution_count": 52,
   "metadata": {},
   "outputs": [],
   "source": [
    "for m in moves:\n",
    "    for i in range(m[0]):\n",
    "        stacks[m[-1]-1].append(stacks[m[1]-1].pop())    # -1 to account for 1 indexed"
   ]
  },
  {
   "cell_type": "code",
   "execution_count": 54,
   "metadata": {},
   "outputs": [
    {
     "name": "stdout",
     "output_type": "stream",
     "text": [
      "ANS1 =  BSDMQFLSP\n"
     ]
    }
   ],
   "source": [
    "ANS1 = \"\"\n",
    "for s in stacks:\n",
    "    ANS1 += s[-1]\n",
    "print(\"ANS1 = \",ANS1)"
   ]
  },
  {
   "cell_type": "markdown",
   "metadata": {},
   "source": [
    "------------\n",
    "-----------\n",
    "### Part-2"
   ]
  },
  {
   "cell_type": "code",
   "execution_count": 55,
   "metadata": {},
   "outputs": [],
   "source": [
    "stacks = [[] for i in range(9)]\n",
    "\n",
    "for i, block in enumerate([1, 5, 9, 13, 17, 21, 25, 29, 33]):\n",
    "    for r in crates[::-1]:\n",
    "        if r[block] != \" \":\n",
    "            stacks[i].append(r[block])"
   ]
  },
  {
   "cell_type": "code",
   "execution_count": 58,
   "metadata": {},
   "outputs": [],
   "source": [
    "for m in moves:\n",
    "\n",
    "    stacks[m[-1]-1].extend(stacks[m[1]-1][-1*m[0]:])    # -1 to account for 1 indexed\n",
    "    stacks[m[1]-1] = stacks[m[1]-1][:-1*m[0]]"
   ]
  },
  {
   "cell_type": "code",
   "execution_count": 60,
   "metadata": {},
   "outputs": [
    {
     "name": "stdout",
     "output_type": "stream",
     "text": [
      "ANS2 =  PGSQBFLDP\n"
     ]
    }
   ],
   "source": [
    "ANS2 = \"\"\n",
    "for s in stacks:\n",
    "    ANS2 += s[-1]\n",
    "print(\"ANS2 = \",ANS2)"
   ]
  }
 ],
 "metadata": {
  "kernelspec": {
   "display_name": "Python 3.9.7 ('base')",
   "language": "python",
   "name": "python3"
  },
  "language_info": {
   "codemirror_mode": {
    "name": "ipython",
    "version": 3
   },
   "file_extension": ".py",
   "mimetype": "text/x-python",
   "name": "python",
   "nbconvert_exporter": "python",
   "pygments_lexer": "ipython3",
   "version": "3.9.7"
  },
  "orig_nbformat": 4,
  "vscode": {
   "interpreter": {
    "hash": "fcf5590ce2d789d46a180223f9dda6f8ae45e89a2999e90e1a0cea5d6d4587a5"
   }
  }
 },
 "nbformat": 4,
 "nbformat_minor": 2
}
